{
 "cells": [
  {
   "cell_type": "code",
   "execution_count": 10,
   "id": "bc9af909-eb32-438b-8a78-a7de57d7a04d",
   "metadata": {},
   "outputs": [
    {
     "name": "stdout",
     "output_type": "stream",
     "text": [
      "Move disk 1 from source A to destination C\n",
      "Move disk 2 from source A to destination B\n",
      "Move disk 1 from source C to destination B\n",
      "Move disk 3 from source A to destination C\n",
      "Move disk 1 from source B to destination A\n",
      "Move disk 2 from source B to destination C\n",
      "Move disk 1 from source A to destination C\n",
      "Move disk 4 from source A to destination B\n",
      "Move disk 1 from source C to destination B\n",
      "Move disk 2 from source C to destination A\n",
      "Move disk 1 from source B to destination A\n",
      "Move disk 3 from source C to destination B\n",
      "Move disk 1 from source A to destination C\n",
      "Move disk 2 from source A to destination B\n",
      "Move disk 1 from source C to destination B\n"
     ]
    }
   ],
   "source": [
    "#Q.1 Can you explain the logic and working of the Tower of Hanoi algorithm by writing a Java program? How does the recursion work, and how are the movements of disks between rods accomplished?\n",
    "def TowerOfHanoi(n , source, destination, auxiliary):\n",
    "    if n==1:\n",
    "        print (\"Move disk 1 from source\",source,\"to destination\",destination)\n",
    "        return\n",
    "    TowerOfHanoi(n-1, source, auxiliary, destination)\n",
    "    print (\"Move disk\",n,\"from source\",source,\"to destination\",destination)\n",
    "    TowerOfHanoi(n-1, auxiliary, destination, source)\n",
    "         \n",
    "# Driver code\n",
    "n = 4\n",
    "TowerOfHanoi(n,'A','B','C') "
   ]
  },
  {
   "cell_type": "code",
   "execution_count": 1,
   "id": "0906e716-e8f3-4ae1-8dd5-f274668b4fd0",
   "metadata": {},
   "outputs": [
    {
     "name": "stdout",
     "output_type": "stream",
     "text": [
      "Output 1: 3\n",
      "Output 2: 5\n"
     ]
    }
   ],
   "source": [
    "#Q.2 Given two strings word1 and word2, return the minimum number of operations required to convert word1 to word2.\n",
    "\n",
    "def minDistance(word1, word2):\n",
    "    m, n = len(word1), len(word2)\n",
    "\n",
    "    # Initialize a 2D array to store the minimum number of operations\n",
    "    dp = [[0] * (n + 1) for _ in range(m + 1)]\n",
    "\n",
    "    # Fill in the base cases\n",
    "    for i in range(m + 1):\n",
    "        dp[i][0] = i\n",
    "    for j in range(n + 1):\n",
    "        dp[0][j] = j\n",
    "\n",
    "    # Fill in the rest of the array based on the recurrence relation\n",
    "    for i in range(1, m + 1):\n",
    "        for j in range(1, n + 1):\n",
    "            if word1[i - 1] == word2[j - 1]:\n",
    "                dp[i][j] = dp[i - 1][j - 1]\n",
    "            else:\n",
    "                dp[i][j] = min(dp[i - 1][j], dp[i][j - 1], dp[i - 1][j - 1]) + 1\n",
    "\n",
    "    # The bottom-right cell contains the minimum number of operations\n",
    "    return dp[m][n]\n",
    "\n",
    "# Example usage:\n",
    "word1_1, word2_1 = \"horse\", \"ros\"\n",
    "word1_2, word2_2 = \"intention\", \"execution\"\n",
    "\n",
    "output_1 = minDistance(word1_1, word2_1)\n",
    "output_2 = minDistance(word1_2, word2_2)\n",
    "\n",
    "print(f\"Output 1: {output_1}\")\n",
    "print(f\"Output 2: {output_2}\")\n"
   ]
  },
  {
   "cell_type": "code",
   "execution_count": 3,
   "id": "418ee064-5a4d-47cf-be6e-564edcbaf455",
   "metadata": {},
   "outputs": [
    {
     "name": "stdout",
     "output_type": "stream",
     "text": [
      "The maximum value in the array is: 22\n"
     ]
    }
   ],
   "source": [
    "#Q. 3 Print the max value of the array [ 13, 1, -3, 22, 5].\n",
    "\n",
    "def find_max_recursive(arr, n):\n",
    "    # Base case: if the array has only one element, it is the maximum\n",
    "    if n == 1:\n",
    "        return (arr[0])\n",
    "\n",
    "    # Recursive case: find the maximum in the rest of the array\n",
    "    max_in_rest = find_max_recursive(arr[1:], n - 1)\n",
    "\n",
    "    # Compare the maximum in the rest with the current element\n",
    "    return max(max_in_rest, arr[0])\n",
    "\n",
    "# Example usage:\n",
    "array = [13, 1, -3, 22, 5]\n",
    "max_value = find_max_recursive(array, len(array))\n",
    "\n",
    "print(f\"The maximum value in the array is: {max_value}\")\n"
   ]
  },
  {
   "cell_type": "code",
   "execution_count": 6,
   "id": "089a7129-9e39-4104-a6b8-785d23aa76b5",
   "metadata": {},
   "outputs": [
    {
     "name": "stdout",
     "output_type": "stream",
     "text": [
      "120\n"
     ]
    }
   ],
   "source": [
    "#Q.4 Find the sum of the values of the array [92, 23, 15, -20, 10].\n",
    "def sum_recursive(arr, n):\n",
    "    # Base case: if the array has only one element, return that element\n",
    "    if n == 1:\n",
    "        return arr[0]\n",
    "\n",
    "    sum_values = 0\n",
    "    # Sum the current element with the sum of the rest of the array\n",
    "    for value in arr:\n",
    "        sum_values += value\n",
    "\n",
    "    return sum_values\n",
    "\n",
    "# Example usage:\n",
    "arr = [92, 23, 15, -20, 10]\n",
    "result = sum_recursive(arr, len(arr))\n",
    "print(result)\n"
   ]
  },
  {
   "cell_type": "code",
   "execution_count": 8,
   "id": "69137014-beeb-49f7-9613-f3dea46d15cd",
   "metadata": {},
   "outputs": [
    {
     "name": "stdout",
     "output_type": "stream",
     "text": [
      "Input 1: 153, Output 1: Yes\n",
      "Input 2: 134, Output 2: No\n"
     ]
    }
   ],
   "source": [
    "#Q.5 Given a number n. Print if it is an armstrong number or not.An armstrong number is a number if the sum of every digit in that number raised to the power of total digits in that number is equal to the number.\n",
    "'''Example : 153 = 1^3 + 5^3 + 3^3 = 1 + 125 + 27 = 153 hence 153 is an armstrong number. (Easy)\n",
    "Input1 : 153\n",
    "Output1 : Yes\n",
    "Input 2 : 134\n",
    "Output2 : No'''\n",
    "\n",
    "def power(x, n):\n",
    "    # Base case: x^0 is always 1\n",
    "    if n == 0:\n",
    "        return 1\n",
    "    # Recursive case: x^n = x * x^(n-1)\n",
    "    return x * power(x, n - 1)\n",
    "\n",
    "def armstrong_recursive(n, total_digits):\n",
    "    # Base case: if the number is a single digit, it is an Armstrong number\n",
    "    if n < 10:\n",
    "        return n\n",
    "\n",
    "    # Recursive case: sum of each digit raised to the power of total digits\n",
    "    return (n % 10) ** total_digits + armstrong_recursive(n // 10, total_digits)\n",
    "\n",
    "def is_armstrong_number_recursive(n):\n",
    "    # Convert the number to a string to find the total digits\n",
    "    num_str = str(n)\n",
    "    total_digits = len(num_str)\n",
    "\n",
    "    # Calculate the sum using the recursive function\n",
    "    armstrong_sum = armstrong_recursive(n, total_digits)\n",
    "\n",
    "    # Check if the sum is equal to the original number\n",
    "    return armstrong_sum == n\n",
    "\n",
    "# Example usage:\n",
    "input1 = 153\n",
    "output1 = is_armstrong_number_recursive(input1)\n",
    "print(f\"Input 1: {input1}, Output 1: {'Yes' if output1 else 'No'}\")\n",
    "\n",
    "input2 = 134\n",
    "output2 = is_armstrong_number_recursive(input2)\n",
    "print(f\"Input 2: {input2}, Output 2: {'Yes' if output2 else 'No'}\")\n"
   ]
  }
 ],
 "metadata": {
  "kernelspec": {
   "display_name": "Python 3 (ipykernel)",
   "language": "python",
   "name": "python3"
  },
  "language_info": {
   "codemirror_mode": {
    "name": "ipython",
    "version": 3
   },
   "file_extension": ".py",
   "mimetype": "text/x-python",
   "name": "python",
   "nbconvert_exporter": "python",
   "pygments_lexer": "ipython3",
   "version": "3.10.8"
  }
 },
 "nbformat": 4,
 "nbformat_minor": 5
}
